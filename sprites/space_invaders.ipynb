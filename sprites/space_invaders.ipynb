{
 "cells": [
  {
   "cell_type": "code",
   "execution_count": null,
   "metadata": {},
   "outputs": [],
   "source": [
    "from argparse import Namespace\n",
    "import random\n",
    "\n",
    "import numpy as np\n",
    "\n",
    "import seaborn as sns\n",
    "import matplotlib.pyplot as plt\n",
    "from PIL import Image, ImageDraw\n",
    "\n",
    "%matplotlib inline\n",
    "%config InlineBackend.figure_format = 'retina'\n",
    "sns.set()"
   ]
  },
  {
   "cell_type": "code",
   "execution_count": null,
   "metadata": {},
   "outputs": [],
   "source": [
    "def spawn(args):\n",
    "    l = max(0, np.random.normal(loc=args.lower_loc, scale=args.lower_scale))\n",
    "    u = min(255, np.random.normal(loc=args.upper_loc, scale=args.upper_scale))\n",
    "        \n",
    "    r = lambda: np.random.randint(l, u)\n",
    "    rc = lambda: (r(), r(), r())\n",
    "    colors = [rc() for _ in range(args.num_colored)] + [args.bg_color] * args.num_empty\n",
    "    \n",
    "    img  = Image.new('RGB', 2*(args.sprite_canvas_size,))\n",
    "    draw = ImageDraw.Draw(img)\n",
    "\n",
    "    for y in range(args.sprite_unit_size):\n",
    "        for xl in range(args.sprite_unit_size // 2):\n",
    "            xr = args.sprite_unit_size - xl - 1\n",
    "\n",
    "            c = random.choice(colors)\n",
    "\n",
    "            pos = [(xl * args.sprite_unit, y * args.sprite_unit), \n",
    "                   ((xl + 1) * args.sprite_unit, (y+1) * args.sprite_unit)]\n",
    "            draw.rectangle(pos, c)\n",
    "\n",
    "            pos = [(xr * args.sprite_unit, y * args.sprite_unit), \n",
    "                   ((xr + 1) * args.sprite_unit, (y+1) * args.sprite_unit)]\n",
    "            draw.rectangle(pos, c)\n",
    "\n",
    "    return img\n",
    "\n",
    "\n",
    "def generate(args):\n",
    "    sz = args.sprite_canvas_size + 4 * args.margin\n",
    "    w = sz * args.sprites_per_line\n",
    "    h = sz * args.num_lines\n",
    "\n",
    "    wall = Image.new('RGB', (w, h))\n",
    "\n",
    "    for i in range(args.num_lines):\n",
    "        for j in range(args.sprites_per_line):\n",
    "            \n",
    "            sprite = spawn(args)\n",
    "\n",
    "            img = Image.new('RGB', 2*(sz,), color=args.bg_color)\n",
    "            img.paste(sprite, (args.margin, args.margin))\n",
    "\n",
    "            wall.paste(img, (j*sz, i*sz))\n",
    "    \n",
    "    return wall"
   ]
  },
  {
   "cell_type": "code",
   "execution_count": null,
   "metadata": {},
   "outputs": [],
   "source": [
    "args = Namespace()\n",
    "\n",
    "args.bg_color           = [3*(255,), 3*(int(0x1e),)][0]\n",
    "\n",
    "args.sprite_canvas_size = 2 ** 7\n",
    "args.sprite_unit_size   = 2 ** 3\n",
    "args.sprite_unit        = args.sprite_canvas_size // args.sprite_unit_size\n",
    "    \n",
    "args.num_colored = 5\n",
    "args.num_empty   = 6\n",
    "\n",
    "args.lower_loc   = 50\n",
    "args.lower_scale = 5\n",
    "args.upper_loc   = 200\n",
    "args.upper_scale = 10\n",
    "    \n",
    "# control final canvas\n",
    "args.sprites_per_line = 8\n",
    "args.num_lines        = 16\n",
    "args.margin           = 20"
   ]
  },
  {
   "cell_type": "code",
   "execution_count": null,
   "metadata": {},
   "outputs": [],
   "source": [
    "s = spawn(args)\n",
    "s"
   ]
  },
  {
   "cell_type": "code",
   "execution_count": null,
   "metadata": {},
   "outputs": [],
   "source": [
    "wall = generate(args)\n",
    "wall"
   ]
  },
  {
   "cell_type": "code",
   "execution_count": null,
   "metadata": {},
   "outputs": [],
   "source": [
    "wall.save(f'./out/space_invaders_light_canvas_{args.sprite_canvas_size}_unit_{args.sprite_unit_size}.png', 'png')"
   ]
  }
 ],
 "metadata": {
  "kernelspec": {
   "display_name": "Python 3 (ipykernel)",
   "language": "python",
   "name": "python3"
  },
  "language_info": {
   "codemirror_mode": {
    "name": "ipython",
    "version": 3
   },
   "file_extension": ".py",
   "mimetype": "text/x-python",
   "name": "python",
   "nbconvert_exporter": "python",
   "pygments_lexer": "ipython3",
   "version": "3.9.12"
  }
 },
 "nbformat": 4,
 "nbformat_minor": 4
}
